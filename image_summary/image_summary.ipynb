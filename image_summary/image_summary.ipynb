{
 "cells": [
  {
   "cell_type": "code",
   "execution_count": 1,
   "metadata": {},
   "outputs": [],
   "source": [
    "LLAVA_EXEC_PATH = \"~/Code/llama.cpp/build/bin/llava\"\n",
    "MODEL_PATH = \"~/Models/ggml_llava-v1.5-7b/ggml-model-q5_k.gguf\"\n",
    "MMPROJ_PATH = \"~/Models/ggml_llava-v1.5-7b/mmproj-model-f16.gguf\""
   ]
  },
  {
   "cell_type": "code",
   "execution_count": null,
   "metadata": {},
   "outputs": [],
   "source": [
    "from pathlib import Path\n",
    "\n",
    "DATA_DIR = \"data\"\n",
    "IMAGE_DIR = Path(DATA_DIR, \"image\")\n",
    "TXT_DIR = Path(DATA_DIR, \"txt\")"
   ]
  },
  {
   "cell_type": "code",
   "execution_count": null,
   "metadata": {},
   "outputs": [],
   "source": [
    "import glob\n",
    "\n",
    "image_paths = sorted(glob.glob(str(IMAGE_DIR.joinpath(\"*.jpg\"))))\n",
    "\n",
    "\n",
    "# image_paths output\n",
    "# [''data/image/anthony-delanoix-Q0-fOL2nqZc-unsplash.jpg'',\n",
    "# ''data/image/arthur-humeau-3xwdarHxHqI-unsplash.jpg'',\n",
    "# ''data/image/bastien-nvs-SprV1eqNrqM-unsplash.jpg'',\n",
    "# ''data/image/marloes-hilckmann-EUzxLX8p8IA-unsplash.jpg'',\n",
    "# ''data/image/michael-fousert-Ql9PCaOhyyE-unsplash.jpg'']"
   ]
  },
  {
   "cell_type": "code",
   "execution_count": null,
   "metadata": {},
   "outputs": [],
   "source": [
    "TEMP = 0.1\n",
    "PROMPT = \"The image shows a site in Paris. Describe the image like a tourist guide would.\"\n",
    "\n",
    "bash_command = f''{LLAVA_EXEC_PATH} -m {MODEL_PATH} --mmproj {MMPROJ_PATH} --temp {TEMP} -p \"{PROMPT}\"''\n",
    "\n",
    "# Bash command output\n",
    "# ~/Code/llama.cpp/build/bin/llava -m ~/Models/ggml_llava-v1.5-7b/ggml-model-q5_k.gguf --mmproj ~/Models/ggml_llava-v1.5-7b/mmproj-model-f16.gguf --temp 0.1 -p \"The image shows a site in Paris. Describe the image like a tourist guide would.\""
   ]
  },
  {
   "cell_type": "code",
   "execution_count": null,
   "metadata": {},
   "outputs": [],
   "source": []
  }
 ],
 "metadata": {
  "kernelspec": {
   "display_name": "base",
   "language": "python",
   "name": "python3"
  },
  "language_info": {
   "codemirror_mode": {
    "name": "ipython",
    "version": 3
   },
   "file_extension": ".py",
   "mimetype": "text/x-python",
   "name": "python",
   "nbconvert_exporter": "python",
   "pygments_lexer": "ipython3",
   "version": "3.12.4"
  }
 },
 "nbformat": 4,
 "nbformat_minor": 2
}
