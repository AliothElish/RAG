{
 "cells": [
  {
   "cell_type": "code",
   "execution_count": null,
   "metadata": {},
   "outputs": [],
   "source": [
    "LLAVA_EXEC_PATH = \"~/Code/llama.cpp/build/bin/llava\"\n",
    "MODEL_PATH = \"~/Models/ggml_llava-v1.5-7b/ggml-model-q5_k.gguf\"\n",
    "MMPROJ_PATH = \"~/Models/ggml_llava-v1.5-7b/mmproj-model-f16.gguf\""
   ]
  }
 ],
 "metadata": {
  "language_info": {
   "name": "python"
  }
 },
 "nbformat": 4,
 "nbformat_minor": 2
}
